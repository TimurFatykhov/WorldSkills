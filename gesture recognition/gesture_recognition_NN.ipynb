{
 "cells": [
  {
   "cell_type": "markdown",
   "metadata": {},
   "source": [
    "# <center> Классификация жестов\n",
    "<img src='img/gesture_digits.png' width='70%'>"
   ]
  },
  {
   "cell_type": "markdown",
   "metadata": {},
   "source": [
    "#### Для начала загрузите [датасет](https://drive.google.com/open?id=10cyJtEV6Zy_L6XMh0Ht1B6tY6soKfjEt) нажав \"Скачать все\"!\n",
    "<br>\n",
    "<br>\n",
    "<br>\n",
    "<br>"
   ]
  },
  {
   "cell_type": "code",
   "execution_count": null,
   "metadata": {
    "collapsed": true
   },
   "outputs": [],
   "source": [
    "%reload_ext autoreload\n",
    "%autoreload 2"
   ]
  },
  {
   "cell_type": "code",
   "execution_count": null,
   "metadata": {
    "collapsed": true
   },
   "outputs": [],
   "source": [
    "# импортируем требуемые бибилиотеки\n",
    "\n",
    "import torch\n",
    "from source.network import NNClassifier, Softmax_layer, Flatten\n",
    "from source.helpme import show_history, show_image, load_gestures, calculate_pad\n",
    "import numpy as np\n",
    "import torchvision\n",
    "import os\n",
    "from torchvision import transforms\n",
    "from sklearn.model_selection import train_test_split"
   ]
  },
  {
   "cell_type": "code",
   "execution_count": null,
   "metadata": {},
   "outputs": [],
   "source": [
    "X, y = load_gestures('Dataset')"
   ]
  },
  {
   "cell_type": "code",
   "execution_count": null,
   "metadata": {},
   "outputs": [],
   "source": [
    "# разобьем выборку на тренировочную, валидационную и тестовую\n",
    "\n",
    "X_train, X_test, y_train, y_test = train_test_split(X, y, test_size=0.3, random_state=17, shuffle=True)\n",
    "X_train, X_valid, y_train, y_valid = train_test_split(X_train, y_train, test_size=0.2, random_state=17, shuffle=True)\n",
    "\n",
    "print('Размер тренировочной выборки: %d' % len(X_train))\n",
    "print('Размер валидационной выборки: %d' % len(X_valid))\n",
    "print('Размер тестовой выборки: %d' % len(X_test))\n",
    "\n",
    "X_train = np.transpose(X_train, (0, 3, 1, 2))\n",
    "X_valid = np.transpose(X_valid, (0, 3, 1, 2))\n",
    "X_test = np.transpose(X_test, (0, 3, 1, 2))"
   ]
  },
  {
   "cell_type": "markdown",
   "metadata": {},
   "source": [
    "# Convolutional neural network"
   ]
  },
  {
   "cell_type": "code",
   "execution_count": null,
   "metadata": {
    "collapsed": true
   },
   "outputs": [],
   "source": [
    "# определим архитектуру сети\n",
    "\n",
    "conv_net = torch.nn.Sequential(# 32x32x3\n",
    "                               \n",
    "                               torch.nn.Conv2d(3, 10, 3, stride=2, padding=1),\n",
    "                               torch.nn.ReLU(),\n",
    "                               torch.nn.BatchNorm2d(10),\n",
    "                               # 16x16x10\n",
    "\n",
    "                               torch.nn.Conv2d(10, 20, 3, stride=2, padding=1),\n",
    "                               torch.nn.ReLU(),\n",
    "                               torch.nn.BatchNorm2d(20),\n",
    "                               # 8x8x20\n",
    "\n",
    "                               torch.nn.Conv2d(20, 40, 3, stride=2, padding=1),\n",
    "                               torch.nn.ReLU(),\n",
    "                               torch.nn.BatchNorm2d(40),\n",
    "                               # 4x4x40\n",
    "\n",
    "                               Flatten(),\n",
    "                               torch.nn.Linear(640, 10),\n",
    "                               Softmax_layer())"
   ]
  },
  {
   "cell_type": "code",
   "execution_count": null,
   "metadata": {
    "collapsed": true
   },
   "outputs": [],
   "source": [
    "# определим модель с удобным функционалом\n",
    "\n",
    "model = NNClassifier(conv_net, lr=1e-4)"
   ]
  },
  {
   "cell_type": "code",
   "execution_count": null,
   "metadata": {},
   "outputs": [],
   "source": [
    "# обучим нейросеть\n",
    "\n",
    "model.fit(X_train, y_train, epochs=50, batch_size=256, \n",
    "          valid_data=(X_valid, y_valid))"
   ]
  },
  {
   "cell_type": "code",
   "execution_count": null,
   "metadata": {},
   "outputs": [],
   "source": [
    "# посмотрим на кривые обучения\n",
    "\n",
    "model.show_history()"
   ]
  },
  {
   "cell_type": "code",
   "execution_count": null,
   "metadata": {},
   "outputs": [],
   "source": [
    "# проверим точность модели (должно быть не меньше 0.81)\n",
    "\n",
    "model.evaluate_score(X_test, y_test)"
   ]
  },
  {
   "cell_type": "code",
   "execution_count": null,
   "metadata": {
    "scrolled": false
   },
   "outputs": [],
   "source": [
    "# посмотрим как работает нейросеть\n",
    "\n",
    "model.show_predict_grid(X_test, y_test, size = 8)"
   ]
  }
 ],
 "metadata": {
  "kernelspec": {
   "display_name": "Python 3",
   "language": "python",
   "name": "python3"
  },
  "language_info": {
   "codemirror_mode": {
    "name": "ipython",
    "version": 3
   },
   "file_extension": ".py",
   "mimetype": "text/x-python",
   "name": "python",
   "nbconvert_exporter": "python",
   "pygments_lexer": "ipython3",
   "version": "3.6.9"
  },
  "latex_envs": {
   "LaTeX_envs_menu_present": true,
   "autocomplete": true,
   "bibliofile": "biblio.bib",
   "cite_by": "apalike",
   "current_citInitial": 1,
   "eqLabelWithNumbers": true,
   "eqNumInitial": 1,
   "hotkeys": {
    "equation": "Ctrl-E",
    "itemize": "Ctrl-I"
   },
   "labels_anchors": false,
   "latex_user_defs": false,
   "report_style_numbering": false,
   "user_envs_cfg": false
  }
 },
 "nbformat": 4,
 "nbformat_minor": 2
}
