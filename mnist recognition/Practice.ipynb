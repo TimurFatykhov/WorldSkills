{
 "cells": [
  {
   "cell_type": "markdown",
   "metadata": {},
   "source": [
    "# Классификация рукописных цифр"
   ]
  },
  {
   "cell_type": "markdown",
   "metadata": {},
   "source": [
    "### Метод ближайших соседей"
   ]
  },
  {
   "cell_type": "markdown",
   "metadata": {},
   "source": [
    "### Сверточная нейросеть"
   ]
  },
  {
   "cell_type": "code",
   "execution_count": 1,
   "metadata": {
    "collapsed": true
   },
   "outputs": [],
   "source": [
    "%load_ext autoreload\n",
    "%autoreload 2"
   ]
  },
  {
   "cell_type": "code",
   "execution_count": 2,
   "metadata": {
    "collapsed": true
   },
   "outputs": [],
   "source": [
    "import torch\n",
    "from source.torchutils import ModelWithAPI, Flatten, Softmax\n",
    "import matplotlib.pyplot as plt"
   ]
  },
  {
   "cell_type": "code",
   "execution_count": 3,
   "metadata": {
    "collapsed": true
   },
   "outputs": [],
   "source": [
    "# mnist_loader.py\n",
    "from torch.utils.data import DataLoader, Dataset\n",
    "from torchvision.datasets import MNIST\n",
    "import torch\n",
    "import PIL\n",
    "import numpy as np\n",
    "\n",
    "from albumentations import Compose, HorizontalFlip, Cutout, ShiftScaleRotate, ToGray, ToFloat, Transpose\n",
    "from albumentations.pytorch import ToTensor\n",
    "\n",
    "mnist_dataset_train = MNIST('./mnist/', train=True, download=True)\n",
    "mnist_dataset_test = MNIST('./mnist/', train=False, download=True)\n",
    "\n",
    "\n",
    "class MNIST_Dataset(Dataset):\n",
    "    def __init__(self, train=True, trs=None, size=1.0):\n",
    "        global mnist_dataset\n",
    "        self.train = train\n",
    "        \n",
    "        if self.train:\n",
    "            self.data = mnist_dataset_train.train_data.numpy()\n",
    "            self.N = len(self.data)\n",
    "            self.targets = mnist_dataset_train.train_labels.numpy()\n",
    "        else:\n",
    "            self.data = mnist_dataset_test.test_data.numpy()\n",
    "            self.N = len(self.data)\n",
    "            self.targets = mnist_dataset_test.test_labels.numpy()\n",
    "            \n",
    "        self.N = int(self.N * size) \n",
    "        self.data = self.data[:self.N]\n",
    "        self.targets = self.targets[:self.N]\n",
    "        \n",
    "        if trs is None:\n",
    "            self.trs = Compose([Transpose(always_apply=True), ToTensor()])\n",
    "        else:\n",
    "            self.trs = trs\n",
    "            \n",
    "        \n",
    "    def __len__(self):\n",
    "        return self.N\n",
    "    \n",
    "    \n",
    "    def __getitem__(self, idx):\n",
    "        x = self.data[idx]\n",
    "        x = self.trs(image=x)['image']\n",
    "        x = torch.unsqueeze(x, 0)\n",
    "        \n",
    "        y = self.targets[idx]\n",
    "        \n",
    "        return x, y\n",
    "    \n",
    "\n",
    "def create_mnist_loader(train=True, trs=None, batch_size=256, size=1.0, num_workers=0):\n",
    "    dataset = MNIST_Dataset(train=train, trs=trs, size=size)\n",
    "    loader = DataLoader(dataset, batch_size=batch_size, num_workers=num_workers)\n",
    "    \n",
    "    return loader"
   ]
  },
  {
   "cell_type": "code",
   "execution_count": 127,
   "metadata": {
    "collapsed": true
   },
   "outputs": [],
   "source": [
    "aug_trs = Compose([ShiftScaleRotate(shift_limit=0.1, \n",
    "                                    scale_limit=0.3, \n",
    "                                    rotate_limit=45, \n",
    "                                    p=0.5),\n",
    "                   Cutout(num_holes=32, max_h_size=3, max_w_size=3, p=0.5),\n",
    "                   Transpose(always_apply=True),\n",
    "                   ToTensor()])"
   ]
  },
  {
   "cell_type": "code",
   "execution_count": 128,
   "metadata": {
    "collapsed": true
   },
   "outputs": [],
   "source": [
    "train_loader = create_mnist_loader(size=0.3, trs = aug_trs)\n",
    "test_loader = create_mnist_loader(train=False, size=0.2)"
   ]
  },
  {
   "cell_type": "code",
   "execution_count": 133,
   "metadata": {},
   "outputs": [
    {
     "data": {
      "image/png": "[encoded data removed]",
      "text/plain": [
       "<Figure size 432x288 with 1 Axes>"
      ]
     },
     "metadata": {},
     "output_type": "display_data"
    }
   ],
   "source": [
    "for x, y in train_loader:\n",
    "    plt.imshow(x[10][0])\n",
    "    break"
   ]
  },
  {
   "cell_type": "code",
   "execution_count": 134,
   "metadata": {
    "collapsed": true
   },
   "outputs": [],
   "source": [
    "conv_net = torch.nn.Sequential(torch.nn.Conv2d(1, 16, 3, stride=2, padding=3),\n",
    "                               torch.nn.ReLU(),\n",
    "                               torch.nn.BatchNorm2d(16),\n",
    "                               # 16x16x16\n",
    "                               \n",
    "                               torch.nn.Conv2d(16, 32, 3, stride=2, padding=1),\n",
    "                               torch.nn.ReLU(),\n",
    "                               torch.nn.BatchNorm2d(32),\n",
    "                               # 8x8x32\n",
    "                               \n",
    "                               torch.nn.Conv2d(32, 64, 3, stride=2, padding=1),\n",
    "                               torch.nn.ReLU(),\n",
    "                               torch.nn.BatchNorm2d(64),\n",
    "                               # 4x4x64\n",
    "                               \n",
    "                               torch.nn.Conv2d(64, 128, 3, stride=2, padding=1),\n",
    "                               torch.nn.ReLU(),\n",
    "                               torch.nn.BatchNorm2d(128),\n",
    "                               # 2x2x64\n",
    "                               \n",
    "                               Flatten(),\n",
    "                               torch.nn.Linear(512, 10), \n",
    "                               Softmax())\n",
    "\n",
    "optim = torch.optim.Adam(conv_net.parameters(), 5e-3)\n",
    "criterion = torch.nn.functional.cross_entropy"
   ]
  },
  {
   "cell_type": "code",
   "execution_count": 135,
   "metadata": {
    "collapsed": true
   },
   "outputs": [],
   "source": [
    "model = ModelWithAPI(conv_net, optim, criterion, device='cpu')"
   ]
  },
  {
   "cell_type": "code",
   "execution_count": 136,
   "metadata": {
    "collapsed": true
   },
   "outputs": [],
   "source": [
    "model.model = torch.load('cnn_model.pt')"
   ]
  },
  {
   "cell_type": "code",
   "execution_count": null,
   "metadata": {},
   "outputs": [
    {
     "data": {
      "application/vnd.jupyter.widget-view+json": {
       "model_id": "3f6d394f41ab4015ac9496a4fd3cc1c0",
       "version_major": 2,
       "version_minor": 0
      },
      "text/plain": [
       "A Jupyter Widget"
      ]
     },
     "metadata": {},
     "output_type": "display_data"
    }
   ],
   "source": [
    "train_history, val_history = model.fit_loader(train_loader, \n",
    "                                              val_loader=test_loader, \n",
    "                                              epochs=30, \n",
    "                                              lr_decay_every=10);"
   ]
  },
  {
   "cell_type": "code",
   "execution_count": 24,
   "metadata": {},
   "outputs": [
    {
     "data": {
      "image/png": "[encoded data removed]",
      "text/plain": [
       "<Figure size 432x288 with 1 Axes>"
      ]
     },
     "metadata": {},
     "output_type": "display_data"
    }
   ],
   "source": [
    "plt.plot(train_history, label='train')\n",
    "plt.plot(val_history, label='valid')\n",
    "plt.legend()\n",
    "plt.show()"
   ]
  },
  {
   "cell_type": "code",
   "execution_count": 8,
   "metadata": {
    "collapsed": true
   },
   "outputs": [],
   "source": [
    "pred = model.evaluate_metrics_loader(test_loader)"
   ]
  },
  {
   "cell_type": "code",
   "execution_count": 9,
   "metadata": {},
   "outputs": [
    {
     "data": {
      "text/plain": [
       "array([7, 2, 1, 0, 4, 1, 4, 9, 5, 9])"
      ]
     },
     "execution_count": 9,
     "metadata": {},
     "output_type": "execute_result"
    }
   ],
   "source": [
    "pred[:10]"
   ]
  },
  {
   "cell_type": "code",
   "execution_count": 10,
   "metadata": {},
   "outputs": [
    {
     "data": {
      "text/plain": [
       "0.9435"
      ]
     },
     "execution_count": 10,
     "metadata": {},
     "output_type": "execute_result"
    }
   ],
   "source": [
    "(pred == test_loader.dataset.targets).mean()"
   ]
  },
  {
   "cell_type": "code",
   "execution_count": 11,
   "metadata": {
    "collapsed": true
   },
   "outputs": [],
   "source": [
    "# torch.save(model.model, './cnn_model.pt')"
   ]
  },
  {
   "cell_type": "code",
   "execution_count": 12,
   "metadata": {
    "collapsed": true
   },
   "outputs": [],
   "source": [
    "%matplotlib inline"
   ]
  },
  {
   "cell_type": "code",
   "execution_count": 13,
   "metadata": {
    "collapsed": true
   },
   "outputs": [],
   "source": [
    "import cv2"
   ]
  },
  {
   "cell_type": "code",
   "execution_count": 21,
   "metadata": {
    "collapsed": true
   },
   "outputs": [],
   "source": [
    "img = PIL.Image.open('./tmp.png')\n",
    "# img = img.resize((28, 28))\n",
    "arr = np.asarray(img)\n",
    "arr = cv2.resize(arr, (28, 28), interpolation=cv2.INTER_AREA)\n",
    "arr = arr / arr.max()"
   ]
  },
  {
   "cell_type": "code",
   "execution_count": 22,
   "metadata": {},
   "outputs": [
    {
     "data": {
      "text/plain": [
       "<matplotlib.image.AxesImage at 0x1c28fcd780>"
      ]
     },
     "execution_count": 22,
     "metadata": {},
     "output_type": "execute_result"
    },
    {
     "data": {
      "image/png": "[encoded data removed]",
      "text/plain": [
       "<Figure size 432x288 with 1 Axes>"
      ]
     },
     "metadata": {},
     "output_type": "display_data"
    }
   ],
   "source": [
    "plt.imshow(arr)"
   ]
  },
  {
   "cell_type": "code",
   "execution_count": 19,
   "metadata": {},
   "outputs": [
    {
     "data": {
      "text/plain": [
       "<matplotlib.image.AxesImage at 0x1c2b0ee550>"
      ]
     },
     "execution_count": 19,
     "metadata": {},
     "output_type": "execute_result"
    },
    {
     "data": {
      "image/png": "[encoded data removed]",
      "text/plain": [
       "<Figure size 432x288 with 1 Axes>"
      ]
     },
     "metadata": {},
     "output_type": "display_data"
    }
   ],
   "source": [
    "plt.imshow(train_loader.dataset.data[0])"
   ]
  },
  {
   "cell_type": "code",
   "execution_count": null,
   "metadata": {
    "collapsed": true
   },
   "outputs": [],
   "source": []
  },
  {
   "cell_type": "code",
   "execution_count": null,
   "metadata": {
    "collapsed": true
   },
   "outputs": [],
   "source": []
  },
  {
   "cell_type": "code",
   "execution_count": 9,
   "metadata": {
    "collapsed": true
   },
   "outputs": [],
   "source": [
    "score = model.predict_score_loader(test_loader)"
   ]
  },
  {
   "cell_type": "code",
   "execution_count": 13,
   "metadata": {
    "collapsed": true
   },
   "outputs": [],
   "source": [
    "with torch.no_grad():\n",
    "    score = torch.nn.Softmax(dim=1)(score)"
   ]
  },
  {
   "cell_type": "code",
   "execution_count": 41,
   "metadata": {
    "collapsed": true
   },
   "outputs": [],
   "source": [
    "import PIL\n",
    "\n",
    "def predict_img(model, img_path, device='cpu'):\n",
    "    img = PIL.Image.open(img_path)\n",
    "    img = img.resize((28, 28))\n",
    "    arr = np.asarray(img)\n",
    "    arr = arr / arr.max()\n",
    "    \n",
    "    if len(arr.shape) > 2:\n",
    "        arr = arr[..., 0] # rgb to gray\n",
    "        \n",
    "    t = torch.Tensor(arr.reshape((1, 1) + arr.shape))\n",
    "    \n",
    "    model = model.to(device)\n",
    "    model.eval()\n",
    "    score = None\n",
    "    with torch.no_grad():\n",
    "        score = model(t.to(device))\n",
    "        \n",
    "    score = score.to('cpu').numpy()[0]\n",
    "    return score.argmax()"
   ]
  },
  {
   "cell_type": "code",
   "execution_count": 42,
   "metadata": {},
   "outputs": [
    {
     "name": "stderr",
     "output_type": "stream",
     "text": [
      "/Users/timur89833239972/anaconda3/lib/python3.6/site-packages/ipykernel_launcher.py:7: RuntimeWarning: invalid value encountered in true_divide\n",
      "  import sys\n"
     ]
    },
    {
     "data": {
      "text/plain": [
       "6"
      ]
     },
     "execution_count": 42,
     "metadata": {},
     "output_type": "execute_result"
    }
   ],
   "source": [
    "predict_img(model.model, 'tmp.png')"
   ]
  },
  {
   "cell_type": "code",
   "execution_count": null,
   "metadata": {
    "collapsed": true
   },
   "outputs": [],
   "source": []
  },
  {
   "cell_type": "code",
   "execution_count": null,
   "metadata": {
    "collapsed": true
   },
   "outputs": [],
   "source": []
  },
  {
   "cell_type": "code",
   "execution_count": null,
   "metadata": {
    "collapsed": true
   },
   "outputs": [],
   "source": []
  },
  {
   "cell_type": "code",
   "execution_count": null,
   "metadata": {
    "collapsed": true
   },
   "outputs": [],
   "source": [
    "trs = Compose([ShiftScaleRotate(shift_limit=0.05, \n",
    "                                                 scale_limit=0.05, \n",
    "                                                 rotate_limit=180, \n",
    "                                                 p=0.5),\n",
    "                                ToTensor()])"
   ]
  }
 ],
 "metadata": {
  "kernelspec": {
   "display_name": "Python 3",
   "language": "python",
   "name": "python3"
  },
  "language_info": {
   "codemirror_mode": {
    "name": "ipython",
    "version": 3
   },
   "file_extension": ".py",
   "mimetype": "text/x-python",
   "name": "python",
   "nbconvert_exporter": "python",
   "pygments_lexer": "ipython3",
   "version": "3.6.9"
  },
  "latex_envs": {
   "LaTeX_envs_menu_present": true,
   "autocomplete": true,
   "bibliofile": "biblio.bib",
   "cite_by": "apalike",
   "current_citInitial": 1,
   "eqLabelWithNumbers": true,
   "eqNumInitial": 1,
   "hotkeys": {
    "equation": "Ctrl-E",
    "itemize": "Ctrl-I"
   },
   "labels_anchors": false,
   "latex_user_defs": false,
   "report_style_numbering": false,
   "user_envs_cfg": false
  }
 },
 "nbformat": 4,
 "nbformat_minor": 2
}
