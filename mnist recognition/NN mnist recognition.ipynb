{
 "cells": [
  {
   "cell_type": "markdown",
   "metadata": {},
   "source": [
    "# <center> Классификация рукописных цифр\n",
    "## <center> MNIST\n",
    "<img src='./img/mnist_examples.png'>"
   ]
  },
  {
   "cell_type": "markdown",
   "metadata": {},
   "source": [
    "## Метод ближайших соседей"
   ]
  },
  {
   "cell_type": "code",
   "execution_count": null,
   "metadata": {
    "collapsed": true
   },
   "outputs": [],
   "source": [
    "# импортируем требуемые библиотеки\n",
    "import matplotlib.pyplot as plt\n",
    "from sklearn.neighbors import KNeighborsClassifier\n",
    "from source.mnistloader import get_mnist_data\n",
    "import pickle"
   ]
  },
  {
   "cell_type": "code",
   "execution_count": null,
   "metadata": {
    "collapsed": true
   },
   "outputs": [],
   "source": [
    "# загрузим датасет\n",
    "X_train, y_train = get_mnist_data(train=True)\n",
    "X_test, y_test = get_mnist_data(train=False)"
   ]
  },
  {
   "cell_type": "code",
   "execution_count": null,
   "metadata": {
    "collapsed": true
   },
   "outputs": [],
   "source": [
    "# выведем размер имеющейся выборки\n",
    "print('Размер обучающей выборки: %d изображений' % len(X_train))\n",
    "print('Размер тестовой выборки: %d изображений' % len(X_test))"
   ]
  },
  {
   "cell_type": "code",
   "execution_count": null,
   "metadata": {
    "collapsed": true
   },
   "outputs": [],
   "source": [
    "# Создадим модель классификатора.\n",
    "# Параметры модели:\n",
    "# \n",
    "#   n_neighbors : количество ближайших соседей, по которым будем определять класс\n",
    "#   weights     : алгоритм, по которому учитывается \"голос\" каждого из соседей\n",
    "#      - 'uniform' : веса одинаковы\n",
    "#      - 'distance' : веса обратно-пропорциональны расстоянию до соседа\n",
    "\n",
    "knn_model = KNeighborsClassifier(n_neighbors=5, \n",
    "                                 weights='uniform')"
   ]
  },
  {
   "cell_type": "code",
   "execution_count": null,
   "metadata": {
    "collapsed": true
   },
   "outputs": [],
   "source": [
    "%%time\n",
    "\n",
    "# Обучим KNN-модель, засекая время с помощью функции %%time\n",
    "knn_model.fit(X_train, y_train)"
   ]
  },
  {
   "cell_type": "code",
   "execution_count": null,
   "metadata": {
    "collapsed": true
   },
   "outputs": [],
   "source": [
    "%%time\n",
    "\n",
    "# проверим процент точности на тестовой выборке\n",
    "y_pred = knn_model.predict(X_test[:1000])\n",
    "(y_pred == y_test[:1000]).mean()"
   ]
  },
  {
   "cell_type": "code",
   "execution_count": null,
   "metadata": {
    "collapsed": true
   },
   "outputs": [],
   "source": [
    "%%time\n",
    "\n",
    "# посмотрим сколько времени требуется для того, чтобы сделать одно предсказание\n",
    "knn_model.predict(X_test[:1]);"
   ]
  },
  {
   "cell_type": "code",
   "execution_count": null,
   "metadata": {
    "collapsed": true
   },
   "outputs": [],
   "source": [
    "# сохраним модель для последующего тестирования\n",
    "with open('knn.pickle', 'wb') as out:\n",
    "    pickle.dump(knn_model, out)"
   ]
  },
  {
   "cell_type": "markdown",
   "metadata": {},
   "source": [
    "## Сверточная нейросеть"
   ]
  },
  {
   "cell_type": "code",
   "execution_count": null,
   "metadata": {
    "collapsed": true
   },
   "outputs": [],
   "source": [
    "# импортируем требуемые библиотеки\n",
    "import torch\n",
    "import matplotlib.pyplot as plt\n",
    "from source.torchutils import ModelWithAPI, Flatten, Softmax\n",
    "from source.mnistloader import create_mnist_loader\n",
    "from source.utils import plot_grid\n",
    "from albumentations import Compose, HorizontalFlip, Cutout, ShiftScaleRotate, ToGray, ToFloat, Transpose, PadIfNeeded, Resize\n",
    "from albumentations.pytorch import ToTensor\n",
    "import PIL\n",
    "import cv2\n",
    "import numpy as np"
   ]
  },
  {
   "cell_type": "code",
   "execution_count": null,
   "metadata": {
    "collapsed": true
   },
   "outputs": [],
   "source": [
    "# создадим загрузчики данных\n",
    "# тут мы можем регулировать размер обучающей и тестовой выборки (параметр size можно менять)\n",
    "\n",
    "train_loader = create_mnist_loader(size=0.3)\n",
    "\n",
    "test_loader = create_mnist_loader(size=0.2,\n",
    "                                  train=False)"
   ]
  },
  {
   "cell_type": "code",
   "execution_count": null,
   "metadata": {
    "collapsed": true,
    "scrolled": true
   },
   "outputs": [],
   "source": [
    "# посмотрим как будут выглядят данные каждого класса\n",
    "plot_grid(train_loader.dataset.data, train_loader.dataset.targets, \n",
    "          class_num = 2,  # - какой класс показать \n",
    "          grid_size = 10) # - размер сетки"
   ]
  },
  {
   "cell_type": "code",
   "execution_count": null,
   "metadata": {
    "collapsed": true
   },
   "outputs": [],
   "source": [
    "# определим архитектуру нейросети\n",
    "\n",
    "conv_net = torch.nn.Sequential(torch.nn.Conv2d(in_channels=1, out_channels=16, kernel_size=3, stride=2, padding=3),\n",
    "                               torch.nn.ReLU(),\n",
    "                               torch.nn.BatchNorm2d(num_features=16),\n",
    "                               # 16x16x16\n",
    "                               \n",
    "                               torch.nn.Conv2d(16, 32, 3, stride=2, padding=1),\n",
    "                               torch.nn.ReLU(),\n",
    "                               torch.nn.BatchNorm2d(32),\n",
    "                               # 8x8x32\n",
    "                               \n",
    "                               torch.nn.Conv2d(32, 64, 3, stride=2, padding=1),\n",
    "                               torch.nn.ReLU(),\n",
    "                               torch.nn.BatchNorm2d(64),\n",
    "                               # 4x4x64\n",
    "                               \n",
    "                               torch.nn.Conv2d(64, 128, 3, stride=2, padding=1),\n",
    "                               torch.nn.ReLU(),\n",
    "                               torch.nn.BatchNorm2d(128),\n",
    "                               # 2x2x64\n",
    "                               \n",
    "                               Flatten(),\n",
    "                               torch.nn.Linear(512, 10), \n",
    "                               Softmax())\n",
    "\n",
    "# определим правило, по которому будем менять веса в нейросети\n",
    "optim = torch.optim.Adam(conv_net.parameters(), \n",
    "                         5e-3) # - шаг обучения\n",
    "\n",
    "# выберем функцию ошибки\n",
    "criterion = torch.nn.functional.cross_entropy"
   ]
  },
  {
   "cell_type": "code",
   "execution_count": null,
   "metadata": {
    "collapsed": true
   },
   "outputs": [],
   "source": [
    "# соберем нашу модель\n",
    "model = ModelWithAPI(conv_net, optim, criterion, device='cpu')"
   ]
  },
  {
   "cell_type": "code",
   "execution_count": null,
   "metadata": {
    "collapsed": true
   },
   "outputs": [],
   "source": [
    "# и обучим ее\n",
    "train_history, val_history = model.fit_loader(train_loader,\n",
    "                                              val_loader=test_loader,\n",
    "                                              epochs=30,              # - количество эпох\n",
    "                                              lr_decay_every=10);     # - через сколько эпох будем уменьшать шаг"
   ]
  },
  {
   "cell_type": "code",
   "execution_count": null,
   "metadata": {
    "collapsed": true
   },
   "outputs": [],
   "source": [
    "%%time\n",
    "\n",
    "# посмотрим на процент правильно угаданных ответов в тестовой выборке, замерив время\n",
    "pred = model.evaluate_metrics_loader(test_loader)\n",
    "(pred == test_loader.dataset.targets).mean()"
   ]
  },
  {
   "cell_type": "code",
   "execution_count": null,
   "metadata": {
    "collapsed": true
   },
   "outputs": [],
   "source": [
    "# сохраним нашу модель\n",
    "torch.save(model.model, './cnn_model.pt') "
   ]
  },
  {
   "cell_type": "markdown",
   "metadata": {},
   "source": [
    "## Сверточная нейросеть с аугментацией"
   ]
  },
  {
   "cell_type": "code",
   "execution_count": null,
   "metadata": {
    "collapsed": true
   },
   "outputs": [],
   "source": [
    "# определим какие методы аугментации, которы будем использовать\n",
    "aug_trs = Compose([PadIfNeeded(45, 45, border_mode=0, p=0.2),\n",
    "                   \n",
    "                   ShiftScaleRotate(           # - случайное смещение, масштабирование, повороты\n",
    "                       shift_limit= 0.2,       # - максимальное смещение (в долях 0.2 - это на 20% в сторону)\n",
    "                       scale_limit=(0, 0.5),   # - границы масштабирования\n",
    "                       rotate_limit=10,        # - максимальный угол поворота\n",
    "                       border_mode=0,          # - лучше оставить как есть :)\n",
    "                       p=0.2),                 # - вероятность, с которой будет применена аугментация\n",
    "                   \n",
    "                  Resize(28, 28, always_apply=True),\n",
    "                   \n",
    "                   Cutout(                     # - случайно расбрасываем на картинке прямоугольники\n",
    "                       num_holes=16,           # - кол-во прямоугольников\n",
    "                       max_h_size=3,           # - высота прямоугольника\n",
    "                       max_w_size=3,           # - ширина\n",
    "                       fill_value=0,           # - яркость прямоугольников\n",
    "                       p=0.5),                 # - вероятность, с которой будет применена аугментация\n",
    "                   \n",
    "\n",
    "                   Transpose(always_apply=True),\n",
    "                   ToTensor()])"
   ]
  },
  {
   "cell_type": "code",
   "execution_count": null,
   "metadata": {
    "collapsed": true
   },
   "outputs": [],
   "source": [
    "# создадим загрузчик тренировочных данных, указав аугментацию\n",
    "# тут мы можем регулировать размер обучающей и тестовой выборки (параметр size можно менять)\n",
    "train_loader = create_mnist_loader(size=0.3, \n",
    "                                   trs = aug_trs)"
   ]
  },
  {
   "cell_type": "code",
   "execution_count": null,
   "metadata": {
    "collapsed": true
   },
   "outputs": [],
   "source": [
    "# посмотрим как будут выглядеть наши данные после применения аугментации\n",
    "plot_grid(train_loader.dataset.data, train_loader.dataset.targets, \n",
    "          trs = aug_trs,\n",
    "          class_num = 2,  # - какой класс показать \n",
    "          grid_size = 10) # - размер сетки"
   ]
  },
  {
   "cell_type": "code",
   "execution_count": null,
   "metadata": {
    "collapsed": true
   },
   "outputs": [],
   "source": [
    "# снова определим архитектуру нейросети\n",
    "\n",
    "conv_net = torch.nn.Sequential(torch.nn.Conv2d(in_channels=1, out_channels=16, kernel_size=3, stride=2, padding=3),\n",
    "                               torch.nn.ReLU(),\n",
    "                               torch.nn.BatchNorm2d(num_features=16),\n",
    "                               # 16x16x16\n",
    "                               \n",
    "                               torch.nn.Conv2d(16, 32, 3, stride=2, padding=1),\n",
    "                               torch.nn.ReLU(),\n",
    "                               torch.nn.BatchNorm2d(32),\n",
    "                               # 8x8x32\n",
    "                               \n",
    "                               torch.nn.Conv2d(32, 64, 3, stride=2, padding=1),\n",
    "                               torch.nn.ReLU(),\n",
    "                               torch.nn.BatchNorm2d(64),\n",
    "                               # 4x4x64\n",
    "                               \n",
    "                               torch.nn.Conv2d(64, 128, 3, stride=2, padding=1),\n",
    "                               torch.nn.ReLU(),\n",
    "                               torch.nn.BatchNorm2d(128),\n",
    "                               # 2x2x64\n",
    "                               \n",
    "                               Flatten(),\n",
    "                               torch.nn.Linear(512, 10), \n",
    "                               Softmax())\n",
    "\n",
    "# определим правило, по которому будем менять веса в нейросети\n",
    "optim = torch.optim.Adam(conv_net.parameters(), \n",
    "                         5e-3) # - шаг обучения\n",
    "\n",
    "# выберем функцию ошибки\n",
    "criterion = torch.nn.functional.cross_entropy"
   ]
  },
  {
   "cell_type": "code",
   "execution_count": null,
   "metadata": {
    "collapsed": true
   },
   "outputs": [],
   "source": [
    "# соберем нашу модель\n",
    "model = ModelWithAPI(conv_net, optim, criterion, device='cpu')"
   ]
  },
  {
   "cell_type": "code",
   "execution_count": null,
   "metadata": {
    "collapsed": true
   },
   "outputs": [],
   "source": [
    "# и обучим ее\n",
    "train_history, val_history = model.fit_loader(train_loader,\n",
    "                                              val_loader=test_loader,\n",
    "                                              epochs=30,              # - количество эпох\n",
    "                                              lr_decay_every=10);     # - через сколько эпох будем уменьшать шаг"
   ]
  },
  {
   "cell_type": "code",
   "execution_count": null,
   "metadata": {
    "collapsed": true
   },
   "outputs": [],
   "source": [
    "%%time\n",
    "\n",
    "# посмотрим на процент правильно угаданных ответов в тестовой выборке, замерив время\n",
    "pred = model.evaluate_metrics_loader(test_loader)\n",
    "(pred == test_loader.dataset.targets).mean()"
   ]
  },
  {
   "cell_type": "code",
   "execution_count": null,
   "metadata": {
    "collapsed": true
   },
   "outputs": [],
   "source": [
    "# сохраним нашу модель\n",
    "torch.save(model.model, './cnn_model_aug.pt')"
   ]
  }
 ],
 "metadata": {
  "kernelspec": {
   "display_name": "Python 3",
   "language": "python",
   "name": "python3"
  },
  "language_info": {
   "codemirror_mode": {
    "name": "ipython",
    "version": 3
   },
   "file_extension": ".py",
   "mimetype": "text/x-python",
   "name": "python",
   "nbconvert_exporter": "python",
   "pygments_lexer": "ipython3",
   "version": "3.6.9"
  },
  "latex_envs": {
   "LaTeX_envs_menu_present": true,
   "autocomplete": true,
   "bibliofile": "biblio.bib",
   "cite_by": "apalike",
   "current_citInitial": 1,
   "eqLabelWithNumbers": true,
   "eqNumInitial": 1,
   "hotkeys": {
    "equation": "Ctrl-E",
    "itemize": "Ctrl-I"
   },
   "labels_anchors": false,
   "latex_user_defs": false,
   "report_style_numbering": false,
   "user_envs_cfg": false
  }
 },
 "nbformat": 4,
 "nbformat_minor": 2
}
