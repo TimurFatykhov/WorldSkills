{
 "cells": [
  {
   "cell_type": "markdown",
   "metadata": {},
   "source": [
    "# <center> Классификация рукописных цифр\n",
    "## <center> MNIST\n",
    "<img src='./img/mnist_examples.png'>"
   ]
  },
  {
   "cell_type": "markdown",
   "metadata": {},
   "source": [
    "## Метод ближайших соседей"
   ]
  },
  {
   "cell_type": "code",
   "execution_count": null,
   "metadata": {
    "collapsed": true
   },
   "outputs": [],
   "source": [
    "# импортируем требуемые библиотеки\n",
    "import matplotlib.pyplot as plt\n",
    "from sklearn.neighbors import KNeighborsClassifier\n",
    "from source.mnistloader import get_mnist_data\n",
    "import pickle"
   ]
  },
  {
   "cell_type": "code",
   "execution_count": null,
   "metadata": {
    "collapsed": true
   },
   "outputs": [],
   "source": [
    "# загрузим датасет\n",
    "X_train, y_train = get_mnist_data(train=True)\n",
    "X_test, y_test = get_mnist_data(train=False)"
   ]
  },
  {
   "cell_type": "code",
   "execution_count": null,
   "metadata": {
    "collapsed": true
   },
   "outputs": [],
   "source": [
    "# выведем размер имеющейся выборки\n",
    "print('Размер обучающей выборки: %d изображений' % len(X_train))\n",
    "print('Размер тестовой выборки: %d изображений' % len(X_test))"
   ]
  },
  {
   "cell_type": "code",
   "execution_count": null,
   "metadata": {
    "collapsed": true
   },
   "outputs": [],
   "source": [
    "# Создадим модель классификатора.\n",
    "# Параметры модели:\n",
    "# \n",
    "#   n_neighbors : количество ближайших соседей, по которым будем определять класс\n",
    "#   weights     : алгоритм, по которому учитывается \"голос\" каждого из соседей\n",
    "#      - 'uniform' : веса одинаковы\n",
    "#      - 'distance' : веса обратно-пропорциональны расстоянию до соседа\n",
    "\n",
    "knn_model = KNeighborsClassifier(n_neighbors=5, \n",
    "                                 weights='uniform')"
   ]
  },
  {
   "cell_type": "code",
   "execution_count": null,
   "metadata": {
    "collapsed": true
   },
   "outputs": [],
   "source": [
    "%%time\n",
    "\n",
    "# Обучим KNN-модель, засекая время с помощью функции %%time\n",
    "knn_model.fit(X_train, y_train)"
   ]
  },
  {
   "cell_type": "code",
   "execution_count": null,
   "metadata": {
    "collapsed": true
   },
   "outputs": [],
   "source": [
    "%%time\n",
    "\n",
    "# проверим процент точности на тестовой выборке (1000 изображений)\n",
    "y_pred = knn_model.predict(X_test[:1000])\n",
    "(y_pred == y_test[:1000]).mean()"
   ]
  },
  {
   "cell_type": "code",
   "execution_count": null,
   "metadata": {
    "collapsed": true
   },
   "outputs": [],
   "source": [
    "%%time\n",
    "\n",
    "# посмотрим сколько времени требуется для того, чтобы сделать одно предсказание\n",
    "knn_model.predict(X_test[:1]);"
   ]
  },
  {
   "cell_type": "code",
   "execution_count": null,
   "metadata": {
    "collapsed": true
   },
   "outputs": [],
   "source": [
    "# сохраним модель, которую будем использовать в приложении\n",
    "\n",
    "with open('knn.pickle', 'wb') as out:\n",
    "    pickle.dump(knn_model, out)"
   ]
  }
 ],
 "metadata": {
  "kernelspec": {
   "display_name": "Python 3",
   "language": "python",
   "name": "python3"
  },
  "language_info": {
   "codemirror_mode": {
    "name": "ipython",
    "version": 3
   },
   "file_extension": ".py",
   "mimetype": "text/x-python",
   "name": "python",
   "nbconvert_exporter": "python",
   "pygments_lexer": "ipython3",
   "version": "3.6.9"
  },
  "latex_envs": {
   "LaTeX_envs_menu_present": true,
   "autocomplete": true,
   "bibliofile": "biblio.bib",
   "cite_by": "apalike",
   "current_citInitial": 1,
   "eqLabelWithNumbers": true,
   "eqNumInitial": 1,
   "hotkeys": {
    "equation": "Ctrl-E",
    "itemize": "Ctrl-I"
   },
   "labels_anchors": false,
   "latex_user_defs": false,
   "report_style_numbering": false,
   "user_envs_cfg": false
  }
 },
 "nbformat": 4,
 "nbformat_minor": 2
}
